{
 "cells": [
  {
   "cell_type": "code",
   "execution_count": 18,
   "metadata": {},
   "outputs": [],
   "source": [
    "#Importing Necessary libraries\n",
    "\n",
    "#Basic\n",
    "import pandas as pd\n",
    "\n",
    "\n",
    "#Visualization\n",
    "import matplotlib.pyplot as plt\n",
    "import seaborn as sns\n",
    "\n",
    "\n",
    "#Nlp\n",
    "from nltk.corpus import stopwords\n",
    "from nltk.tokenize import word_tokenize\n",
    "import re\n"
   ]
  },
  {
   "cell_type": "code",
   "execution_count": 22,
   "metadata": {
    "scrolled": true
   },
   "outputs": [
    {
     "data": {
      "text/html": [
       "<div>\n",
       "<style scoped>\n",
       "    .dataframe tbody tr th:only-of-type {\n",
       "        vertical-align: middle;\n",
       "    }\n",
       "\n",
       "    .dataframe tbody tr th {\n",
       "        vertical-align: top;\n",
       "    }\n",
       "\n",
       "    .dataframe thead th {\n",
       "        text-align: right;\n",
       "    }\n",
       "</style>\n",
       "<table border=\"1\" class=\"dataframe\">\n",
       "  <thead>\n",
       "    <tr style=\"text-align: right;\">\n",
       "      <th></th>\n",
       "      <th>id</th>\n",
       "      <th>comment_text</th>\n",
       "      <th>toxic</th>\n",
       "      <th>severe_toxic</th>\n",
       "      <th>obscene</th>\n",
       "      <th>threat</th>\n",
       "      <th>insult</th>\n",
       "      <th>identity_hate</th>\n",
       "    </tr>\n",
       "  </thead>\n",
       "  <tbody>\n",
       "    <tr>\n",
       "      <td>40872</td>\n",
       "      <td>6d17abebb77d5861</td>\n",
       "      <td>\"\\n\\nEncMstr covered it from a highlevel, I'll...</td>\n",
       "      <td>0</td>\n",
       "      <td>0</td>\n",
       "      <td>0</td>\n",
       "      <td>0</td>\n",
       "      <td>0</td>\n",
       "      <td>0</td>\n",
       "    </tr>\n",
       "    <tr>\n",
       "      <td>125001</td>\n",
       "      <td>9cb1f44c3bebb5cc</td>\n",
       "      <td>All those stupid little blocks will not stop m...</td>\n",
       "      <td>1</td>\n",
       "      <td>0</td>\n",
       "      <td>0</td>\n",
       "      <td>0</td>\n",
       "      <td>0</td>\n",
       "      <td>0</td>\n",
       "    </tr>\n",
       "    <tr>\n",
       "      <td>78998</td>\n",
       "      <td>d367e9305dd7ffaf</td>\n",
       "      <td>Yes, please delete it not because of marginal ...</td>\n",
       "      <td>0</td>\n",
       "      <td>0</td>\n",
       "      <td>0</td>\n",
       "      <td>0</td>\n",
       "      <td>0</td>\n",
       "      <td>0</td>\n",
       "    </tr>\n",
       "    <tr>\n",
       "      <td>77961</td>\n",
       "      <td>d0ba7fb2eba56308</td>\n",
       "      <td>Delete? \\n\\nPlease do not delete this article ...</td>\n",
       "      <td>0</td>\n",
       "      <td>0</td>\n",
       "      <td>0</td>\n",
       "      <td>0</td>\n",
       "      <td>0</td>\n",
       "      <td>0</td>\n",
       "    </tr>\n",
       "    <tr>\n",
       "      <td>89109</td>\n",
       "      <td>ee605f61eceee18c</td>\n",
       "      <td>\"\\nYou need to talk to the drafting arb more s...</td>\n",
       "      <td>0</td>\n",
       "      <td>0</td>\n",
       "      <td>0</td>\n",
       "      <td>0</td>\n",
       "      <td>0</td>\n",
       "      <td>0</td>\n",
       "    </tr>\n",
       "    <tr>\n",
       "      <td>36274</td>\n",
       "      <td>60ed4ba6ad3eda8f</td>\n",
       "      <td>You are a faggit \\nGet a life and lick my ball...</td>\n",
       "      <td>1</td>\n",
       "      <td>0</td>\n",
       "      <td>1</td>\n",
       "      <td>0</td>\n",
       "      <td>1</td>\n",
       "      <td>0</td>\n",
       "    </tr>\n",
       "    <tr>\n",
       "      <td>63682</td>\n",
       "      <td>aa65f42e14996e8e</td>\n",
       "      <td>\"\\n\\nThe point is that it's not a single, unif...</td>\n",
       "      <td>0</td>\n",
       "      <td>0</td>\n",
       "      <td>0</td>\n",
       "      <td>0</td>\n",
       "      <td>0</td>\n",
       "      <td>0</td>\n",
       "    </tr>\n",
       "    <tr>\n",
       "      <td>148125</td>\n",
       "      <td>47552d049e093784</td>\n",
       "      <td>\"\\n\\nI apologize for coming to you for assista...</td>\n",
       "      <td>0</td>\n",
       "      <td>0</td>\n",
       "      <td>0</td>\n",
       "      <td>0</td>\n",
       "      <td>0</td>\n",
       "      <td>0</td>\n",
       "    </tr>\n",
       "  </tbody>\n",
       "</table>\n",
       "</div>"
      ],
      "text/plain": [
       "                      id                                       comment_text  \\\n",
       "40872   6d17abebb77d5861  \"\\n\\nEncMstr covered it from a highlevel, I'll...   \n",
       "125001  9cb1f44c3bebb5cc  All those stupid little blocks will not stop m...   \n",
       "78998   d367e9305dd7ffaf  Yes, please delete it not because of marginal ...   \n",
       "77961   d0ba7fb2eba56308  Delete? \\n\\nPlease do not delete this article ...   \n",
       "89109   ee605f61eceee18c  \"\\nYou need to talk to the drafting arb more s...   \n",
       "36274   60ed4ba6ad3eda8f  You are a faggit \\nGet a life and lick my ball...   \n",
       "63682   aa65f42e14996e8e  \"\\n\\nThe point is that it's not a single, unif...   \n",
       "148125  47552d049e093784  \"\\n\\nI apologize for coming to you for assista...   \n",
       "\n",
       "        toxic  severe_toxic  obscene  threat  insult  identity_hate  \n",
       "40872       0             0        0       0       0              0  \n",
       "125001      1             0        0       0       0              0  \n",
       "78998       0             0        0       0       0              0  \n",
       "77961       0             0        0       0       0              0  \n",
       "89109       0             0        0       0       0              0  \n",
       "36274       1             0        1       0       1              0  \n",
       "63682       0             0        0       0       0              0  \n",
       "148125      0             0        0       0       0              0  "
      ]
     },
     "execution_count": 22,
     "metadata": {},
     "output_type": "execute_result"
    }
   ],
   "source": [
    "file = \"../../data/toxic/train.csv\"\n",
    "data = pd.read_csv(file)\n",
    "data.sample(8)"
   ]
  },
  {
   "cell_type": "code",
   "execution_count": 11,
   "metadata": {},
   "outputs": [
    {
     "name": "stdout",
     "output_type": "stream",
     "text": [
      "159571\n"
     ]
    }
   ],
   "source": [
    "total_data = len(data)\n",
    "print(total_data)"
   ]
  },
  {
   "cell_type": "markdown",
   "metadata": {},
   "source": [
    "### Checking the types of data we are using"
   ]
  },
  {
   "cell_type": "code",
   "execution_count": 12,
   "metadata": {},
   "outputs": [
    {
     "data": {
      "text/plain": [
       "id               object\n",
       "comment_text     object\n",
       "toxic             int64\n",
       "severe_toxic      int64\n",
       "obscene           int64\n",
       "threat            int64\n",
       "insult            int64\n",
       "identity_hate     int64\n",
       "dtype: object"
      ]
     },
     "execution_count": 12,
     "metadata": {},
     "output_type": "execute_result"
    }
   ],
   "source": [
    "data.dtypes"
   ]
  },
  {
   "cell_type": "code",
   "execution_count": 13,
   "metadata": {},
   "outputs": [],
   "source": [
    "### Classifying each class"
   ]
  },
  {
   "cell_type": "code",
   "execution_count": 14,
   "metadata": {},
   "outputs": [
    {
     "name": "stdout",
     "output_type": "stream",
     "text": [
      "Toxic: 15294 9.584448302009765%\n",
      "Severe toxic: 1595 0.9995550569965721%\n",
      "Obscene: 8449 5.2948217407925%\n",
      "Threat: 478 0.2995531769557125%\n",
      "Insult: 7877 4.936360616904074%\n",
      "Identity hate: 1405 0.8804858025581089%\n",
      "Non toxic: 143346 89.83211235124176%\n"
     ]
    }
   ],
   "source": [
    "toxic = data[data.toxic == 1]\n",
    "severe_toxic = data[data.severe_toxic == 1]\n",
    "obscene = data[data.obscene == 1]\n",
    "threat = data[data.threat == 1]\n",
    "insult = data[data.insult == 1]\n",
    "identity_hate = data[data.identity_hate == 1]\n",
    "non_toxic = data[(data.toxic == 0) & (data.severe_toxic == 0) & (data.obscene == 0) & (data.threat == 0) & (data.insult == 0) & (data.identity_hate == 0)]\n",
    "\n",
    "def printDFrame(name, frame, total_data):\n",
    "    print(name + \": \" + str(frame.shape[0]) + \" \" + str(frame.shape[0]/total_data * 100) + \"%\")\n",
    "\n",
    "p = printDFrame\n",
    "\n",
    "p(\"Toxic\", toxic, total_data)\n",
    "p(\"Severe toxic\", severe_toxic, total_data)\n",
    "p(\"Obscene\", obscene, total_data)\n",
    "p(\"Threat\", threat, total_data)\n",
    "p(\"Insult\", insult, total_data)\n",
    "p(\"Identity hate\", identity_hate, total_data)\n",
    "p(\"Non toxic\", non_toxic, total_data)"
   ]
  },
  {
   "cell_type": "markdown",
   "metadata": {},
   "source": [
    "### Visualization of Class"
   ]
  },
  {
   "cell_type": "code",
   "execution_count": 15,
   "metadata": {
    "scrolled": false
   },
   "outputs": [
    {
     "data": {
      "image/png": "[encoded data removed]",
      "text/plain": [
       "<Figure size 720x360 with 1 Axes>"
      ]
     },
     "metadata": {
      "needs_background": "light"
     },
     "output_type": "display_data"
    }
   ],
   "source": [
    "#Selecting data want to plot\n",
    "x=data.iloc[:,2:].sum()\n",
    "#plot\n",
    "plt.figure(figsize=(10,5))\n",
    "ax= sns.barplot(x.index, x.values)\n",
    "#adding the text labels\n",
    "plt.title(\"Number per Class\")\n",
    "plt.ylabel('Number of Occurrences', fontsize=12)\n",
    "plt.xlabel('Class ', fontsize=12)\n",
    "rects = ax.patches\n",
    "labels = x.values\n",
    "\n",
    "for rect, label in zip(rects, labels):\n",
    "    height = rect.get_height()\n",
    "    ax.text(rect.get_x() + rect.get_width()/2, height , label, ha='center')\n",
    "plt.show()"
   ]
  },
  {
   "cell_type": "markdown",
   "metadata": {},
   "source": [
    "### Visualization Mutiple tags per comment"
   ]
  },
  {
   "cell_type": "code",
   "execution_count": 16,
   "metadata": {
    "scrolled": true
   },
   "outputs": [
    {
     "data": {
      "image/png": "[encoded data removed]",
      "text/plain": [
       "<Figure size 720x360 with 1 Axes>"
      ]
     },
     "metadata": {
      "needs_background": "light"
     },
     "output_type": "display_data"
    }
   ],
   "source": [
    "rowsums=data.iloc[:,2:].sum(axis=1)\n",
    "\n",
    "x=rowsums.value_counts()\n",
    "\n",
    "#plot\n",
    "plt.figure(figsize=(10,5))\n",
    "ax = sns.barplot(x.index, x.values)\n",
    "plt.title(\"Multiple tags per comment\")\n",
    "plt.ylabel('Number of Occurrences', fontsize=12)\n",
    "plt.xlabel('Number of tags ', fontsize=12)\n",
    "\n",
    "#adding the text labels\n",
    "rects = ax.patches\n",
    "labels = x.values\n",
    "for rect, label in zip(rects, labels):\n",
    "    height = rect.get_height()\n",
    "    ax.text(rect.get_x() + rect.get_width()/2, height + 5, label, ha='center', va='bottom')\n",
    "\n",
    "plt.show()"
   ]
  },
  {
   "cell_type": "code",
   "execution_count": 34,
   "metadata": {
    "scrolled": false
   },
   "outputs": [
    {
     "data": {
      "text/html": [
       "<div>\n",
       "<style scoped>\n",
       "    .dataframe tbody tr th:only-of-type {\n",
       "        vertical-align: middle;\n",
       "    }\n",
       "\n",
       "    .dataframe tbody tr th {\n",
       "        vertical-align: top;\n",
       "    }\n",
       "\n",
       "    .dataframe thead th {\n",
       "        text-align: right;\n",
       "    }\n",
       "</style>\n",
       "<table border=\"1\" class=\"dataframe\">\n",
       "  <thead>\n",
       "    <tr style=\"text-align: right;\">\n",
       "      <th></th>\n",
       "      <th>id_str</th>\n",
       "      <th>text</th>\n",
       "      <th>created_at</th>\n",
       "      <th>polarity</th>\n",
       "      <th>user_location</th>\n",
       "    </tr>\n",
       "  </thead>\n",
       "  <tbody>\n",
       "    <tr>\n",
       "      <td>6417</td>\n",
       "      <td>1248284699417444352</td>\n",
       "      <td>RT @LAHomeless: \"By early next week, well have...</td>\n",
       "      <td>2020-04-09 16:20:39</td>\n",
       "      <td>0</td>\n",
       "      <td>Los Angeles</td>\n",
       "    </tr>\n",
       "    <tr>\n",
       "      <td>6975</td>\n",
       "      <td>1248284746314022913</td>\n",
       "      <td>RT @haveigotnews: MPs offered an extra 10,000 ...</td>\n",
       "      <td>2020-04-09 16:20:50</td>\n",
       "      <td>0</td>\n",
       "      <td>Belgium</td>\n",
       "    </tr>\n",
       "    <tr>\n",
       "      <td>7036</td>\n",
       "      <td>1248284752546803719</td>\n",
       "      <td>RT @OHdeptofhealth: Social distancing works. W...</td>\n",
       "      <td>2020-04-09 16:20:51</td>\n",
       "      <td>0</td>\n",
       "      <td>Washington, D.C.</td>\n",
       "    </tr>\n",
       "    <tr>\n",
       "      <td>4875</td>\n",
       "      <td>1248284569536794625</td>\n",
       "      <td>RT @MyFaveBench: That's a brilliant Bench. Che...</td>\n",
       "      <td>2020-04-09 16:20:08</td>\n",
       "      <td>1</td>\n",
       "      <td>NW waiting to defect to Kernow</td>\n",
       "    </tr>\n",
       "    <tr>\n",
       "      <td>1975</td>\n",
       "      <td>1247543277185904640</td>\n",
       "      <td>RT @dereckapurnell: The coronavirus pandemic d...</td>\n",
       "      <td>2020-04-07 15:14:30</td>\n",
       "      <td>0</td>\n",
       "      <td>iPhone: 41.663357,-73.929550</td>\n",
       "    </tr>\n",
       "    <tr>\n",
       "      <td>1523</td>\n",
       "      <td>1247543239223246848</td>\n",
       "      <td>RT @OmarJimenez: In the middle of the coronavi...</td>\n",
       "      <td>2020-04-07 15:14:21</td>\n",
       "      <td>0</td>\n",
       "      <td>NaN</td>\n",
       "    </tr>\n",
       "    <tr>\n",
       "      <td>6356</td>\n",
       "      <td>1248284694505906177</td>\n",
       "      <td>RT @seanmdav: The IHME models assumed full soc...</td>\n",
       "      <td>2020-04-09 16:20:37</td>\n",
       "      <td>0</td>\n",
       "      <td>Realville, USA</td>\n",
       "    </tr>\n",
       "    <tr>\n",
       "      <td>2889</td>\n",
       "      <td>1247554377436598273</td>\n",
       "      <td>RT @MollyJongFast: Will @kayleighmcenany tell ...</td>\n",
       "      <td>2020-04-07 15:58:36</td>\n",
       "      <td>0</td>\n",
       "      <td>Palmyra, PA</td>\n",
       "    </tr>\n",
       "  </tbody>\n",
       "</table>\n",
       "</div>"
      ],
      "text/plain": [
       "                   id_str                                               text  \\\n",
       "6417  1248284699417444352  RT @LAHomeless: \"By early next week, well have...   \n",
       "6975  1248284746314022913  RT @haveigotnews: MPs offered an extra 10,000 ...   \n",
       "7036  1248284752546803719  RT @OHdeptofhealth: Social distancing works. W...   \n",
       "4875  1248284569536794625  RT @MyFaveBench: That's a brilliant Bench. Che...   \n",
       "1975  1247543277185904640  RT @dereckapurnell: The coronavirus pandemic d...   \n",
       "1523  1247543239223246848  RT @OmarJimenez: In the middle of the coronavi...   \n",
       "6356  1248284694505906177  RT @seanmdav: The IHME models assumed full soc...   \n",
       "2889  1247554377436598273  RT @MollyJongFast: Will @kayleighmcenany tell ...   \n",
       "\n",
       "               created_at  polarity                   user_location  \n",
       "6417  2020-04-09 16:20:39         0                     Los Angeles  \n",
       "6975  2020-04-09 16:20:50         0                         Belgium  \n",
       "7036  2020-04-09 16:20:51         0                Washington, D.C.  \n",
       "4875  2020-04-09 16:20:08         1  NW waiting to defect to Kernow  \n",
       "1975  2020-04-07 15:14:30         0    iPhone: 41.663357,-73.929550  \n",
       "1523  2020-04-07 15:14:21         0                             NaN  \n",
       "6356  2020-04-09 16:20:37         0                  Realville, USA  \n",
       "2889  2020-04-07 15:58:36         0                     Palmyra, PA  "
      ]
     },
     "execution_count": 34,
     "metadata": {},
     "output_type": "execute_result"
    }
   ],
   "source": [
    "file = \"../../data/toxic/export_dataframe.csv\"\n",
    "data = pd.read_csv(file)\n",
    "data.sample(8)"
   ]
  },
  {
   "cell_type": "code",
   "execution_count": 46,
   "metadata": {},
   "outputs": [],
   "source": []
  },
  {
   "cell_type": "code",
   "execution_count": 47,
   "metadata": {},
   "outputs": [],
   "source": [
    "additional  = ['rt','rts','retweet'] #we'll store additional stopwords here\n",
    "swords = set().union(stopwords.words('english'),additional) #big list containing all the stopwords + our additional ones"
   ]
  },
  {
   "cell_type": "code",
   "execution_count": 48,
   "metadata": {},
   "outputs": [],
   "source": [
    "df['processed_text'] = df['text'].str.lower()\\\n",
    "          .str.replace('(@[a-z0-9]+)\\w+',' ')\\\n",
    "          .str.replace('(http\\S+)', ' ')\\\n",
    "          .str.replace('([^0-9a-z \\t])',' ')\\\n",
    "          .str.replace(' +',' ')\\\n",
    "          .apply(lambda x: [i for i in x.split() if not i in swords])"
   ]
  },
  {
   "cell_type": "code",
   "execution_count": 49,
   "metadata": {},
   "outputs": [],
   "source": []
  },
  {
   "cell_type": "code",
   "execution_count": 52,
   "metadata": {},
   "outputs": [],
   "source": [
    "words = df['processed_text'].dropna()\\\n",
    "                            .apply(lambda y: pd.value_counts(re.findall('([\\s]\\w+[\\s])',' '.join(y))))\\\n",
    "                            .sum(axis=0)\\\n",
    "                            .to_frame()\\\n",
    "                            .reset_index()\\\n",
    "                            .sort_values(by=0,ascending=False)\n",
    "words.columns = ['word','occurences']"
   ]
  },
  {
   "cell_type": "code",
   "execution_count": 64,
   "metadata": {},
   "outputs": [
    {
     "data": {
      "text/html": [
       "<div>\n",
       "<style scoped>\n",
       "    .dataframe tbody tr th:only-of-type {\n",
       "        vertical-align: middle;\n",
       "    }\n",
       "\n",
       "    .dataframe tbody tr th {\n",
       "        vertical-align: top;\n",
       "    }\n",
       "\n",
       "    .dataframe thead th {\n",
       "        text-align: right;\n",
       "    }\n",
       "</style>\n",
       "<table border=\"1\" class=\"dataframe\">\n",
       "  <thead>\n",
       "    <tr style=\"text-align: right;\">\n",
       "      <th></th>\n",
       "      <th>word</th>\n",
       "      <th>occurences</th>\n",
       "    </tr>\n",
       "  </thead>\n",
       "  <tbody>\n",
       "    <tr>\n",
       "      <td>4580</td>\n",
       "      <td>normal</td>\n",
       "      <td>12.0</td>\n",
       "    </tr>\n",
       "    <tr>\n",
       "      <td>4328</td>\n",
       "      <td>mistaken</td>\n",
       "      <td>2.0</td>\n",
       "    </tr>\n",
       "    <tr>\n",
       "      <td>1715</td>\n",
       "      <td>coverage</td>\n",
       "      <td>2.0</td>\n",
       "    </tr>\n",
       "    <tr>\n",
       "      <td>6401</td>\n",
       "      <td>sung</td>\n",
       "      <td>3.0</td>\n",
       "    </tr>\n",
       "    <tr>\n",
       "      <td>6438</td>\n",
       "      <td>surrounding</td>\n",
       "      <td>1.0</td>\n",
       "    </tr>\n",
       "  </tbody>\n",
       "</table>\n",
       "</div>"
      ],
      "text/plain": [
       "               word  occurences\n",
       "4580        normal         12.0\n",
       "4328      mistaken          2.0\n",
       "1715      coverage          2.0\n",
       "6401          sung          3.0\n",
       "6438   surrounding          1.0"
      ]
     },
     "execution_count": 64,
     "metadata": {},
     "output_type": "execute_result"
    }
   ],
   "source": [
    "words.sample(5)"
   ]
  },
  {
   "cell_type": "code",
   "execution_count": 70,
   "metadata": {},
   "outputs": [],
   "source": [
    "locs = df['user_location'].value_counts()\n",
    "locs.drop('',inplace=True)\n",
    "locs = locs[locs>=20]"
   ]
  },
  {
   "cell_type": "code",
   "execution_count": 71,
   "metadata": {},
   "outputs": [
    {
     "data": {
      "text/plain": [
       "United States              194\n",
       "USA                         60\n",
       "Washington, DC              55\n",
       "California, USA             49\n",
       "London, England             48\n",
       "New York, NY                48\n",
       "Florida, USA                47\n",
       "India                       46\n",
       "London                      41\n",
       "Texas, USA                  37\n",
       "Los Angeles, CA             35\n",
       "United Kingdom              32\n",
       "Pennsylvania, USA           32\n",
       "Chicago, IL                 27\n",
       "New York, USA               26\n",
       "UK                          24\n",
       "Lagos, Nigeria              21\n",
       "Canada                      21\n",
       "England, United Kingdom     20\n",
       "Earth                       20\n",
       "Michigan, USA               20\n",
       "Name: user_location, dtype: int64"
      ]
     },
     "execution_count": 71,
     "metadata": {},
     "output_type": "execute_result"
    }
   ],
   "source": [
    "locs"
   ]
  },
  {
   "cell_type": "code",
   "execution_count": null,
   "metadata": {},
   "outputs": [],
   "source": []
  }
 ],
 "metadata": {
  "kernelspec": {
   "display_name": "Python 3",
   "language": "python",
   "name": "python3"
  },
  "language_info": {
   "codemirror_mode": {
    "name": "ipython",
    "version": 3
   },
   "file_extension": ".py",
   "mimetype": "text/x-python",
   "name": "python",
   "nbconvert_exporter": "python",
   "pygments_lexer": "ipython3",
   "version": "3.7.4"
  }
 },
 "nbformat": 4,
 "nbformat_minor": 2
}
